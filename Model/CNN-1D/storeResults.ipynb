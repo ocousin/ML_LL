{
 "cells": [
  {
   "cell_type": "code",
   "execution_count": 6,
   "metadata": {},
   "outputs": [],
   "source": [
    "import onnx \n",
    "import torch \n",
    "import os\n",
    "from IPython.display import display\n",
    "from preProcessing import *\n",
    "import pandas as pd"
   ]
  },
  {
   "cell_type": "markdown",
   "metadata": {},
   "source": [
    "## Analysing the output results of FINN compiler"
   ]
  },
  {
   "cell_type": "markdown",
   "metadata": {},
   "source": [
    "### Directory structure"
   ]
  },
  {
   "cell_type": "code",
   "execution_count": 7,
   "metadata": {},
   "outputs": [
    {
     "name": "stdout",
     "output_type": "stream",
     "text": [
      "total 20\n",
      "-rw-r--r-- 1 ocousin xilinx_u  900 Aug 30 16:14 auto_folding_config.json\n",
      "-rw-r--r-- 1 ocousin xilinx_u  788 Aug 30 16:14 build_dataflow.log\n",
      "drwxr-xr-x 3 ocousin xilinx_u 4096 Aug 30 16:14 intermediate_models\n",
      "drwxr-xr-x 2 ocousin xilinx_u 4096 Aug 31 13:57 report\n",
      "-rw-r--r-- 1 ocousin xilinx_u  406 Aug 30 16:14 time_per_step.json\n",
      "total 24\n",
      "-rw-r--r-- 1 ocousin xilinx_u 1784 Aug 30 16:14 estimate_layer_config_alternatives.json\n",
      "-rw-r--r-- 1 ocousin xilinx_u  222 Aug 31 14:04 estimate_layer_cycles.json\n",
      "-rw-r--r-- 1 ocousin xilinx_u  955 Aug 30 16:14 estimate_layer_resources.json\n",
      "-rw-r--r-- 1 ocousin xilinx_u  222 Aug 31 14:26 estimate_network_performance.json\n",
      "-rw-r--r-- 1 ocousin xilinx_u  780 Aug 30 16:14 op_and_param_counts.json\n",
      "-rw-r--r-- 1 ocousin xilinx_u  301 Aug 31 14:01 test.json\n"
     ]
    }
   ],
   "source": [
    "estimates_output_dir = \"output_estimates_only\"\n",
    "! ls -l {estimates_output_dir}\n",
    "! ls -l {estimates_output_dir}/report"
   ]
  },
  {
   "cell_type": "markdown",
   "metadata": {},
   "source": [
    "### Reading estimate_network_performance"
   ]
  },
  {
   "cell_type": "code",
   "execution_count": 9,
   "metadata": {},
   "outputs": [
    {
     "name": "stdout",
     "output_type": "stream",
     "text": [
      "Reading estimate_network_performance.json \n"
     ]
    },
    {
     "data": {
      "text/html": [
       "<div>\n",
       "<style scoped>\n",
       "    .dataframe tbody tr th:only-of-type {\n",
       "        vertical-align: middle;\n",
       "    }\n",
       "\n",
       "    .dataframe tbody tr th {\n",
       "        vertical-align: top;\n",
       "    }\n",
       "\n",
       "    .dataframe thead th {\n",
       "        text-align: right;\n",
       "    }\n",
       "</style>\n",
       "<table border=\"1\" class=\"dataframe\">\n",
       "  <thead>\n",
       "    <tr style=\"text-align: right;\">\n",
       "      <th></th>\n",
       "      <th>critical_path_cycles</th>\n",
       "      <th>max_cycles</th>\n",
       "      <th>max_cycles_node_name</th>\n",
       "      <th>estimated_throughput_fps</th>\n",
       "      <th>estimated_latency_ns</th>\n",
       "    </tr>\n",
       "  </thead>\n",
       "  <tbody>\n",
       "    <tr>\n",
       "      <th>0</th>\n",
       "      <td>249</td>\n",
       "      <td>80</td>\n",
       "      <td>MatrixVectorActivation_2</td>\n",
       "      <td>1250000</td>\n",
       "      <td>2490</td>\n",
       "    </tr>\n",
       "  </tbody>\n",
       "</table>\n",
       "</div>"
      ],
      "text/plain": [
       "   critical_path_cycles  max_cycles      max_cycles_node_name  \\\n",
       "0                   249          80  MatrixVectorActivation_2   \n",
       "\n",
       "   estimated_throughput_fps  estimated_latency_ns  \n",
       "0                   1250000                  2490  "
      ]
     },
     "metadata": {},
     "output_type": "display_data"
    }
   ],
   "source": [
    "print(\"Reading estimate_network_performance.json \")\n",
    "estimate_network_performance = pd.read_json(estimates_output_dir + '/report/estimate_network_performance.json')\n",
    "display(estimate_network_performance)"
   ]
  },
  {
   "cell_type": "markdown",
   "metadata": {},
   "source": [
    "### Reading estimate_layer_cycles"
   ]
  },
  {
   "cell_type": "code",
   "execution_count": 10,
   "metadata": {},
   "outputs": [
    {
     "name": "stdout",
     "output_type": "stream",
     "text": [
      "Reading estimate_layer_cycles.json \n"
     ]
    },
    {
     "data": {
      "text/html": [
       "<div>\n",
       "<style scoped>\n",
       "    .dataframe tbody tr th:only-of-type {\n",
       "        vertical-align: middle;\n",
       "    }\n",
       "\n",
       "    .dataframe tbody tr th {\n",
       "        vertical-align: top;\n",
       "    }\n",
       "\n",
       "    .dataframe thead th {\n",
       "        text-align: right;\n",
       "    }\n",
       "</style>\n",
       "<table border=\"1\" class=\"dataframe\">\n",
       "  <thead>\n",
       "    <tr style=\"text-align: right;\">\n",
       "      <th></th>\n",
       "      <th>MatrixVectorActivation_0</th>\n",
       "      <th>MatrixVectorActivation_1</th>\n",
       "      <th>MatrixVectorActivation_2</th>\n",
       "      <th>MatrixVectorActivation_3</th>\n",
       "      <th>MatrixVectorActivation_4</th>\n",
       "    </tr>\n",
       "  </thead>\n",
       "  <tbody>\n",
       "    <tr>\n",
       "      <th>0</th>\n",
       "      <td>49</td>\n",
       "      <td>20</td>\n",
       "      <td>80</td>\n",
       "      <td>80</td>\n",
       "      <td>20</td>\n",
       "    </tr>\n",
       "  </tbody>\n",
       "</table>\n",
       "</div>"
      ],
      "text/plain": [
       "   MatrixVectorActivation_0  MatrixVectorActivation_1  \\\n",
       "0                        49                        20   \n",
       "\n",
       "   MatrixVectorActivation_2  MatrixVectorActivation_3  \\\n",
       "0                        80                        80   \n",
       "\n",
       "   MatrixVectorActivation_4  \n",
       "0                        20  "
      ]
     },
     "metadata": {},
     "output_type": "display_data"
    }
   ],
   "source": [
    "print(\"Reading estimate_layer_cycles.json \")\n",
    "estimate_layer_cycles = pd.read_json(estimates_output_dir + '/report/estimate_layer_cycles.json')\n",
    "display(estimate_layer_cycles)"
   ]
  },
  {
   "cell_type": "markdown",
   "metadata": {},
   "source": [
    "### Reading estimate_layer_resources"
   ]
  },
  {
   "cell_type": "code",
   "execution_count": 45,
   "metadata": {},
   "outputs": [
    {
     "name": "stdout",
     "output_type": "stream",
     "text": [
      "Reading estimate_layer_resources.json \n"
     ]
    },
    {
     "data": {
      "text/html": [
       "<div>\n",
       "<style scoped>\n",
       "    .dataframe tbody tr th:only-of-type {\n",
       "        vertical-align: middle;\n",
       "    }\n",
       "\n",
       "    .dataframe tbody tr th {\n",
       "        vertical-align: top;\n",
       "    }\n",
       "\n",
       "    .dataframe thead th {\n",
       "        text-align: right;\n",
       "    }\n",
       "</style>\n",
       "<table border=\"1\" class=\"dataframe\">\n",
       "  <thead>\n",
       "    <tr style=\"text-align: right;\">\n",
       "      <th></th>\n",
       "      <th>MatrixVectorActivation_0</th>\n",
       "      <th>MatrixVectorActivation_1</th>\n",
       "      <th>MatrixVectorActivation_2</th>\n",
       "      <th>MatrixVectorActivation_3</th>\n",
       "      <th>MatrixVectorActivation_4</th>\n",
       "      <th>total</th>\n",
       "    </tr>\n",
       "  </thead>\n",
       "  <tbody>\n",
       "    <tr>\n",
       "      <th>BRAM_18K</th>\n",
       "      <td>1.000000</td>\n",
       "      <td>4.000000</td>\n",
       "      <td>3.000000</td>\n",
       "      <td>3.000000</td>\n",
       "      <td>1.000000</td>\n",
       "      <td>12.0</td>\n",
       "    </tr>\n",
       "    <tr>\n",
       "      <th>BRAM_efficiency</th>\n",
       "      <td>0.042535</td>\n",
       "      <td>0.030382</td>\n",
       "      <td>0.115741</td>\n",
       "      <td>0.115741</td>\n",
       "      <td>0.017361</td>\n",
       "      <td>NaN</td>\n",
       "    </tr>\n",
       "    <tr>\n",
       "      <th>LUT</th>\n",
       "      <td>20395.000000</td>\n",
       "      <td>17113.000000</td>\n",
       "      <td>17762.000000</td>\n",
       "      <td>17762.000000</td>\n",
       "      <td>543.000000</td>\n",
       "      <td>73575.0</td>\n",
       "    </tr>\n",
       "    <tr>\n",
       "      <th>URAM</th>\n",
       "      <td>0.000000</td>\n",
       "      <td>0.000000</td>\n",
       "      <td>0.000000</td>\n",
       "      <td>0.000000</td>\n",
       "      <td>0.000000</td>\n",
       "      <td>0.0</td>\n",
       "    </tr>\n",
       "    <tr>\n",
       "      <th>URAM_efficiency</th>\n",
       "      <td>1.000000</td>\n",
       "      <td>1.000000</td>\n",
       "      <td>1.000000</td>\n",
       "      <td>1.000000</td>\n",
       "      <td>1.000000</td>\n",
       "      <td>NaN</td>\n",
       "    </tr>\n",
       "    <tr>\n",
       "      <th>DSP</th>\n",
       "      <td>0.000000</td>\n",
       "      <td>0.000000</td>\n",
       "      <td>0.000000</td>\n",
       "      <td>0.000000</td>\n",
       "      <td>0.000000</td>\n",
       "      <td>0.0</td>\n",
       "    </tr>\n",
       "  </tbody>\n",
       "</table>\n",
       "</div>"
      ],
      "text/plain": [
       "                 MatrixVectorActivation_0  MatrixVectorActivation_1  \\\n",
       "BRAM_18K                         1.000000                  4.000000   \n",
       "BRAM_efficiency                  0.042535                  0.030382   \n",
       "LUT                          20395.000000              17113.000000   \n",
       "URAM                             0.000000                  0.000000   \n",
       "URAM_efficiency                  1.000000                  1.000000   \n",
       "DSP                              0.000000                  0.000000   \n",
       "\n",
       "                 MatrixVectorActivation_2  MatrixVectorActivation_3  \\\n",
       "BRAM_18K                         3.000000                  3.000000   \n",
       "BRAM_efficiency                  0.115741                  0.115741   \n",
       "LUT                          17762.000000              17762.000000   \n",
       "URAM                             0.000000                  0.000000   \n",
       "URAM_efficiency                  1.000000                  1.000000   \n",
       "DSP                              0.000000                  0.000000   \n",
       "\n",
       "                 MatrixVectorActivation_4    total  \n",
       "BRAM_18K                         1.000000     12.0  \n",
       "BRAM_efficiency                  0.017361      NaN  \n",
       "LUT                            543.000000  73575.0  \n",
       "URAM                             0.000000      0.0  \n",
       "URAM_efficiency                  1.000000      NaN  \n",
       "DSP                              0.000000      0.0  "
      ]
     },
     "metadata": {},
     "output_type": "display_data"
    }
   ],
   "source": [
    "print(\"Reading estimate_layer_resources.json \")\n",
    "estimate_layer_resources = pd.read_json(estimates_output_dir + '/report/estimate_layer_resources.json')\n",
    "display(estimate_layer_resources)"
   ]
  },
  {
   "cell_type": "markdown",
   "metadata": {},
   "source": [
    "### Extract Relevant information"
   ]
  },
  {
   "cell_type": "code",
   "execution_count": 66,
   "metadata": {},
   "outputs": [
    {
     "name": "stdout",
     "output_type": "stream",
     "text": [
      "display df\n"
     ]
    },
    {
     "data": {
      "text/html": [
       "<div>\n",
       "<style scoped>\n",
       "    .dataframe tbody tr th:only-of-type {\n",
       "        vertical-align: middle;\n",
       "    }\n",
       "\n",
       "    .dataframe tbody tr th {\n",
       "        vertical-align: top;\n",
       "    }\n",
       "\n",
       "    .dataframe thead th {\n",
       "        text-align: right;\n",
       "    }\n",
       "</style>\n",
       "<table border=\"1\" class=\"dataframe\">\n",
       "  <thead>\n",
       "    <tr style=\"text-align: right;\">\n",
       "      <th></th>\n",
       "      <th>total</th>\n",
       "    </tr>\n",
       "  </thead>\n",
       "  <tbody>\n",
       "    <tr>\n",
       "      <th>estimated_latency_ns</th>\n",
       "      <td>2490</td>\n",
       "    </tr>\n",
       "  </tbody>\n",
       "</table>\n",
       "</div>"
      ],
      "text/plain": [
       "                      total\n",
       "estimated_latency_ns   2490"
      ]
     },
     "metadata": {},
     "output_type": "display_data"
    },
    {
     "name": "stdout",
     "output_type": "stream",
     "text": [
      "display df1\n"
     ]
    },
    {
     "data": {
      "text/html": [
       "<div>\n",
       "<style scoped>\n",
       "    .dataframe tbody tr th:only-of-type {\n",
       "        vertical-align: middle;\n",
       "    }\n",
       "\n",
       "    .dataframe tbody tr th {\n",
       "        vertical-align: top;\n",
       "    }\n",
       "\n",
       "    .dataframe thead th {\n",
       "        text-align: right;\n",
       "    }\n",
       "</style>\n",
       "<table border=\"1\" class=\"dataframe\">\n",
       "  <thead>\n",
       "    <tr style=\"text-align: right;\">\n",
       "      <th></th>\n",
       "      <th>total</th>\n",
       "    </tr>\n",
       "  </thead>\n",
       "  <tbody>\n",
       "    <tr>\n",
       "      <th>BRAM_18K</th>\n",
       "      <td>12.0</td>\n",
       "    </tr>\n",
       "    <tr>\n",
       "      <th>BRAM_efficiency</th>\n",
       "      <td>NaN</td>\n",
       "    </tr>\n",
       "    <tr>\n",
       "      <th>LUT</th>\n",
       "      <td>73575.0</td>\n",
       "    </tr>\n",
       "    <tr>\n",
       "      <th>URAM</th>\n",
       "      <td>0.0</td>\n",
       "    </tr>\n",
       "    <tr>\n",
       "      <th>URAM_efficiency</th>\n",
       "      <td>NaN</td>\n",
       "    </tr>\n",
       "    <tr>\n",
       "      <th>DSP</th>\n",
       "      <td>0.0</td>\n",
       "    </tr>\n",
       "  </tbody>\n",
       "</table>\n",
       "</div>"
      ],
      "text/plain": [
       "                   total\n",
       "BRAM_18K            12.0\n",
       "BRAM_efficiency      NaN\n",
       "LUT              73575.0\n",
       "URAM                 0.0\n",
       "URAM_efficiency      NaN\n",
       "DSP                  0.0"
      ]
     },
     "metadata": {},
     "output_type": "display_data"
    },
    {
     "data": {
      "text/html": [
       "<div>\n",
       "<style scoped>\n",
       "    .dataframe tbody tr th:only-of-type {\n",
       "        vertical-align: middle;\n",
       "    }\n",
       "\n",
       "    .dataframe tbody tr th {\n",
       "        vertical-align: top;\n",
       "    }\n",
       "\n",
       "    .dataframe thead th {\n",
       "        text-align: right;\n",
       "    }\n",
       "</style>\n",
       "<table border=\"1\" class=\"dataframe\">\n",
       "  <thead>\n",
       "    <tr style=\"text-align: right;\">\n",
       "      <th></th>\n",
       "      <th>total</th>\n",
       "    </tr>\n",
       "  </thead>\n",
       "  <tbody>\n",
       "    <tr>\n",
       "      <th>BRAM_18K</th>\n",
       "      <td>12.0</td>\n",
       "    </tr>\n",
       "    <tr>\n",
       "      <th>BRAM_efficiency</th>\n",
       "      <td>NaN</td>\n",
       "    </tr>\n",
       "    <tr>\n",
       "      <th>LUT</th>\n",
       "      <td>73575.0</td>\n",
       "    </tr>\n",
       "    <tr>\n",
       "      <th>URAM</th>\n",
       "      <td>0.0</td>\n",
       "    </tr>\n",
       "    <tr>\n",
       "      <th>URAM_efficiency</th>\n",
       "      <td>NaN</td>\n",
       "    </tr>\n",
       "    <tr>\n",
       "      <th>DSP</th>\n",
       "      <td>0.0</td>\n",
       "    </tr>\n",
       "    <tr>\n",
       "      <th>estimated_latency_ns</th>\n",
       "      <td>2490.0</td>\n",
       "    </tr>\n",
       "  </tbody>\n",
       "</table>\n",
       "</div>"
      ],
      "text/plain": [
       "                        total\n",
       "BRAM_18K                 12.0\n",
       "BRAM_efficiency           NaN\n",
       "LUT                   73575.0\n",
       "URAM                      0.0\n",
       "URAM_efficiency           NaN\n",
       "DSP                       0.0\n",
       "estimated_latency_ns   2490.0"
      ]
     },
     "metadata": {},
     "output_type": "display_data"
    }
   ],
   "source": [
    "estimate_network_performance = pd.read_json(estimates_output_dir + '/report/estimate_network_performance.json')\n",
    "estimate_layer_resources = pd.read_json(estimates_output_dir + '/report/estimate_layer_resources.json')\n",
    "#dict = {'total':[estimate_network_performance.at[0,'estimated_latency_ns']]}\n",
    "\n",
    "df = pd.DataFrame({'total':[estimate_network_performance.at[0,'estimated_latency_ns']]},index=['estimated_latency_ns'])\n",
    "print(\"display df\")\n",
    "display(df)  #OK\n",
    "\n",
    "\n",
    "# print(\"display estimate_layer_resources\")\n",
    "# display(estimate_layer_resources)\n",
    "#pick-up the total col with the title [[]]\n",
    "df1 = estimate_layer_resources[['total']].copy()\n",
    "\n",
    "print(\"display df1\")\n",
    "display(df1)\n",
    "\n",
    "\n",
    "#result = df.append(total)\n",
    "result = pd.concat([df1, df])\n",
    "display(result)\n",
    "\n"
   ]
  },
  {
   "cell_type": "markdown",
   "metadata": {},
   "source": [
    "## Store the results in different file format for annalysis"
   ]
  },
  {
   "cell_type": "code",
   "execution_count": 70,
   "metadata": {},
   "outputs": [],
   "source": [
    "result.to_csv('./results/resutls.csv')\n",
    "result.to_excel('./results/resutls.xlsx')\n",
    "result.to_json(('./results/resutls.json'))\n"
   ]
  }
 ],
 "metadata": {
  "kernelspec": {
   "display_name": "Python 3.9.12 ('base')",
   "language": "python",
   "name": "python3"
  },
  "language_info": {
   "codemirror_mode": {
    "name": "ipython",
    "version": 3
   },
   "file_extension": ".py",
   "mimetype": "text/x-python",
   "name": "python",
   "nbconvert_exporter": "python",
   "pygments_lexer": "ipython3",
   "version": "3.9.12"
  },
  "orig_nbformat": 4,
  "vscode": {
   "interpreter": {
    "hash": "a1de5a302c1aa7572424f0503db5c9c4c189719a9e17c40ba13cbc56076bbf3b"
   }
  }
 },
 "nbformat": 4,
 "nbformat_minor": 2
}
