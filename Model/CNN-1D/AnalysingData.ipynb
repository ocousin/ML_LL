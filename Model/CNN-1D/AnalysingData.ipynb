{
 "cells": [
  {
   "cell_type": "code",
   "execution_count": null,
   "metadata": {},
   "outputs": [],
   "source": [
    "import onnx \n",
    "import torch \n",
    "import os\n",
    "from IPython.display import display\n",
    "from preProcessing import *"
   ]
  },
  {
   "cell_type": "markdown",
   "metadata": {},
   "source": [
    "## Analysing the output results of FINN compiler"
   ]
  },
  {
   "cell_type": "markdown",
   "metadata": {},
   "source": [
    "### Directory structure"
   ]
  },
  {
   "cell_type": "code",
   "execution_count": null,
   "metadata": {},
   "outputs": [],
   "source": [
    "estimates_output_dir = \"output_estimates_only\"\n",
    "! ls -l {estimates_output_dir}\n",
    "! ls -l {estimates_output_dir}/report\n",
    "! cat {estimates_output_dir}/report/estimate_network_performance.json"
   ]
  },
  {
   "cell_type": "markdown",
   "metadata": {},
   "source": [
    "### Reading estimate_network_performance"
   ]
  },
  {
   "cell_type": "code",
   "execution_count": 34,
   "metadata": {},
   "outputs": [
    {
     "name": "stdout",
     "output_type": "stream",
     "text": [
      "reading estimate_network_performance.json \n"
     ]
    },
    {
     "data": {
      "text/html": [
       "<div>\n",
       "<style scoped>\n",
       "    .dataframe tbody tr th:only-of-type {\n",
       "        vertical-align: middle;\n",
       "    }\n",
       "\n",
       "    .dataframe tbody tr th {\n",
       "        vertical-align: top;\n",
       "    }\n",
       "\n",
       "    .dataframe thead th {\n",
       "        text-align: right;\n",
       "    }\n",
       "</style>\n",
       "<table border=\"1\" class=\"dataframe\">\n",
       "  <thead>\n",
       "    <tr style=\"text-align: right;\">\n",
       "      <th></th>\n",
       "      <th>critical_path_cycles</th>\n",
       "      <th>max_cycles</th>\n",
       "      <th>max_cycles_node_name</th>\n",
       "      <th>estimated_throughput_fps</th>\n",
       "      <th>estimated_latency_ns</th>\n",
       "    </tr>\n",
       "  </thead>\n",
       "  <tbody>\n",
       "    <tr>\n",
       "      <th>0</th>\n",
       "      <td>249</td>\n",
       "      <td>80</td>\n",
       "      <td>MatrixVectorActivation_2</td>\n",
       "      <td>1250000</td>\n",
       "      <td>2490</td>\n",
       "    </tr>\n",
       "  </tbody>\n",
       "</table>\n",
       "</div>"
      ],
      "text/plain": [
       "   critical_path_cycles  max_cycles      max_cycles_node_name  \\\n",
       "0                   249          80  MatrixVectorActivation_2   \n",
       "\n",
       "   estimated_throughput_fps  estimated_latency_ns  \n",
       "0                   1250000                  2490  "
      ]
     },
     "metadata": {},
     "output_type": "display_data"
    }
   ],
   "source": [
    "print(\"Reading estimate_network_performance.json \")\n",
    "estimate_network_performance = pd.read_json(estimates_output_dir + '/report/estimate_network_performance.json')\n",
    "display(estimate_network_performance)"
   ]
  },
  {
   "cell_type": "markdown",
   "metadata": {},
   "source": [
    "### Reading estimate_layer_cycles"
   ]
  },
  {
   "cell_type": "code",
   "execution_count": 35,
   "metadata": {},
   "outputs": [
    {
     "name": "stdout",
     "output_type": "stream",
     "text": [
      "Reading estimate_layer_cycles.json \n"
     ]
    },
    {
     "data": {
      "text/html": [
       "<div>\n",
       "<style scoped>\n",
       "    .dataframe tbody tr th:only-of-type {\n",
       "        vertical-align: middle;\n",
       "    }\n",
       "\n",
       "    .dataframe tbody tr th {\n",
       "        vertical-align: top;\n",
       "    }\n",
       "\n",
       "    .dataframe thead th {\n",
       "        text-align: right;\n",
       "    }\n",
       "</style>\n",
       "<table border=\"1\" class=\"dataframe\">\n",
       "  <thead>\n",
       "    <tr style=\"text-align: right;\">\n",
       "      <th></th>\n",
       "      <th>MatrixVectorActivation_0</th>\n",
       "      <th>MatrixVectorActivation_1</th>\n",
       "      <th>MatrixVectorActivation_2</th>\n",
       "      <th>MatrixVectorActivation_3</th>\n",
       "      <th>MatrixVectorActivation_4</th>\n",
       "    </tr>\n",
       "  </thead>\n",
       "  <tbody>\n",
       "    <tr>\n",
       "      <th>0</th>\n",
       "      <td>49</td>\n",
       "      <td>20</td>\n",
       "      <td>80</td>\n",
       "      <td>80</td>\n",
       "      <td>20</td>\n",
       "    </tr>\n",
       "  </tbody>\n",
       "</table>\n",
       "</div>"
      ],
      "text/plain": [
       "   MatrixVectorActivation_0  MatrixVectorActivation_1  \\\n",
       "0                        49                        20   \n",
       "\n",
       "   MatrixVectorActivation_2  MatrixVectorActivation_3  \\\n",
       "0                        80                        80   \n",
       "\n",
       "   MatrixVectorActivation_4  \n",
       "0                        20  "
      ]
     },
     "metadata": {},
     "output_type": "display_data"
    }
   ],
   "source": [
    "print(\"Reading estimate_layer_cycles.json \")\n",
    "estimate_layer_cycles = pd.read_json(estimates_output_dir + '/report/estimate_layer_cycles.json')\n",
    "display(estimate_layer_cycles)"
   ]
  },
  {
   "cell_type": "markdown",
   "metadata": {},
   "source": [
    "### Reading estimate_layer_resources"
   ]
  },
  {
   "cell_type": "code",
   "execution_count": 36,
   "metadata": {},
   "outputs": [
    {
     "name": "stdout",
     "output_type": "stream",
     "text": [
      "Reading estimate_layer_resources.json \n"
     ]
    },
    {
     "data": {
      "text/html": [
       "<div>\n",
       "<style scoped>\n",
       "    .dataframe tbody tr th:only-of-type {\n",
       "        vertical-align: middle;\n",
       "    }\n",
       "\n",
       "    .dataframe tbody tr th {\n",
       "        vertical-align: top;\n",
       "    }\n",
       "\n",
       "    .dataframe thead th {\n",
       "        text-align: right;\n",
       "    }\n",
       "</style>\n",
       "<table border=\"1\" class=\"dataframe\">\n",
       "  <thead>\n",
       "    <tr style=\"text-align: right;\">\n",
       "      <th></th>\n",
       "      <th>MatrixVectorActivation_0</th>\n",
       "      <th>MatrixVectorActivation_1</th>\n",
       "      <th>MatrixVectorActivation_2</th>\n",
       "      <th>MatrixVectorActivation_3</th>\n",
       "      <th>MatrixVectorActivation_4</th>\n",
       "      <th>total</th>\n",
       "    </tr>\n",
       "  </thead>\n",
       "  <tbody>\n",
       "    <tr>\n",
       "      <th>BRAM_18K</th>\n",
       "      <td>1.000000</td>\n",
       "      <td>4.000000</td>\n",
       "      <td>3.000000</td>\n",
       "      <td>3.000000</td>\n",
       "      <td>1.000000</td>\n",
       "      <td>12.0</td>\n",
       "    </tr>\n",
       "    <tr>\n",
       "      <th>BRAM_efficiency</th>\n",
       "      <td>0.042535</td>\n",
       "      <td>0.030382</td>\n",
       "      <td>0.115741</td>\n",
       "      <td>0.115741</td>\n",
       "      <td>0.017361</td>\n",
       "      <td>NaN</td>\n",
       "    </tr>\n",
       "    <tr>\n",
       "      <th>LUT</th>\n",
       "      <td>20395.000000</td>\n",
       "      <td>17113.000000</td>\n",
       "      <td>17762.000000</td>\n",
       "      <td>17762.000000</td>\n",
       "      <td>543.000000</td>\n",
       "      <td>73575.0</td>\n",
       "    </tr>\n",
       "    <tr>\n",
       "      <th>URAM</th>\n",
       "      <td>0.000000</td>\n",
       "      <td>0.000000</td>\n",
       "      <td>0.000000</td>\n",
       "      <td>0.000000</td>\n",
       "      <td>0.000000</td>\n",
       "      <td>0.0</td>\n",
       "    </tr>\n",
       "    <tr>\n",
       "      <th>URAM_efficiency</th>\n",
       "      <td>1.000000</td>\n",
       "      <td>1.000000</td>\n",
       "      <td>1.000000</td>\n",
       "      <td>1.000000</td>\n",
       "      <td>1.000000</td>\n",
       "      <td>NaN</td>\n",
       "    </tr>\n",
       "    <tr>\n",
       "      <th>DSP</th>\n",
       "      <td>0.000000</td>\n",
       "      <td>0.000000</td>\n",
       "      <td>0.000000</td>\n",
       "      <td>0.000000</td>\n",
       "      <td>0.000000</td>\n",
       "      <td>0.0</td>\n",
       "    </tr>\n",
       "  </tbody>\n",
       "</table>\n",
       "</div>"
      ],
      "text/plain": [
       "                 MatrixVectorActivation_0  MatrixVectorActivation_1  \\\n",
       "BRAM_18K                         1.000000                  4.000000   \n",
       "BRAM_efficiency                  0.042535                  0.030382   \n",
       "LUT                          20395.000000              17113.000000   \n",
       "URAM                             0.000000                  0.000000   \n",
       "URAM_efficiency                  1.000000                  1.000000   \n",
       "DSP                              0.000000                  0.000000   \n",
       "\n",
       "                 MatrixVectorActivation_2  MatrixVectorActivation_3  \\\n",
       "BRAM_18K                         3.000000                  3.000000   \n",
       "BRAM_efficiency                  0.115741                  0.115741   \n",
       "LUT                          17762.000000              17762.000000   \n",
       "URAM                             0.000000                  0.000000   \n",
       "URAM_efficiency                  1.000000                  1.000000   \n",
       "DSP                              0.000000                  0.000000   \n",
       "\n",
       "                 MatrixVectorActivation_4    total  \n",
       "BRAM_18K                         1.000000     12.0  \n",
       "BRAM_efficiency                  0.017361      NaN  \n",
       "LUT                            543.000000  73575.0  \n",
       "URAM                             0.000000      0.0  \n",
       "URAM_efficiency                  1.000000      NaN  \n",
       "DSP                              0.000000      0.0  "
      ]
     },
     "metadata": {},
     "output_type": "display_data"
    }
   ],
   "source": [
    "print(\"Reading estimate_layer_resources.json \")\n",
    "estimate_layer_cycles = pd.read_json(estimates_output_dir + '/report/estimate_layer_resources.json')\n",
    "display(estimate_layer_cycles)"
   ]
  }
 ],
 "metadata": {
  "kernelspec": {
   "display_name": "Python 3.9.12 ('base')",
   "language": "python",
   "name": "python3"
  },
  "language_info": {
   "codemirror_mode": {
    "name": "ipython",
    "version": 3
   },
   "file_extension": ".py",
   "mimetype": "text/x-python",
   "name": "python",
   "nbconvert_exporter": "python",
   "pygments_lexer": "ipython3",
   "version": "3.9.12"
  },
  "orig_nbformat": 4,
  "vscode": {
   "interpreter": {
    "hash": "a1de5a302c1aa7572424f0503db5c9c4c189719a9e17c40ba13cbc56076bbf3b"
   }
  }
 },
 "nbformat": 4,
 "nbformat_minor": 2
}
